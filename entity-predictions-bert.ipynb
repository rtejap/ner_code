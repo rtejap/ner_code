{
 "cells": [
  {
   "cell_type": "markdown",
   "metadata": {
    "papermill": {
     "duration": 0.058747,
     "end_time": "2023-07-20T14:11:14.505632",
     "exception": false,
     "start_time": "2023-07-20T14:11:14.446885",
     "status": "completed"
    },
    "tags": []
   },
   "source": [
    "# Entity extraction using BERT\n",
    "\n",
    "Full tutorial video: https://www.youtube.com/watch?v=MqQ7rqRllIc"
   ]
  },
  {
   "cell_type": "markdown",
   "metadata": {
    "papermill": {
     "duration": 0.032031,
     "end_time": "2023-07-20T14:11:14.568147",
     "exception": false,
     "start_time": "2023-07-20T14:11:14.536116",
     "status": "completed"
    },
    "tags": []
   },
   "source": [
    "## Import everything important"
   ]
  },
  {
   "cell_type": "code",
   "execution_count": 1,
   "metadata": {
    "_cell_guid": "b1076dfc-b9ad-4769-8c92-a6c4dae69d19",
    "_uuid": "8f2839f25d086af736a60e9eeb907d3b93b6e0e5",
    "execution": {
     "iopub.execute_input": "2023-07-20T14:11:14.656972Z",
     "iopub.status.busy": "2023-07-20T14:11:14.656019Z",
     "iopub.status.idle": "2023-07-20T14:11:16.996706Z",
     "shell.execute_reply": "2023-07-20T14:11:16.997304Z"
    },
    "papermill": {
     "duration": 2.399174,
     "end_time": "2023-07-20T14:11:16.997601",
     "exception": false,
     "start_time": "2023-07-20T14:11:14.598427",
     "status": "completed"
    },
    "tags": []
   },
   "outputs": [
    {
     "name": "stderr",
     "output_type": "stream",
     "text": [
      "\u001b[34m\u001b[1mwandb\u001b[0m: \u001b[33mWARNING\u001b[0m W&B installed but not logged in.  Run `wandb login` or set the WANDB_API_KEY env variable.\n"
     ]
    }
   ],
   "source": [
    "import joblib\n",
    "import torch\n",
    "import torch.nn as nn\n",
    "import transformers\n",
    "\n",
    "import numpy as np\n",
    "import pandas as pd\n",
    "\n",
    "from sklearn import preprocessing\n",
    "from sklearn import model_selection\n",
    "\n",
    "from tqdm import tqdm\n",
    "from transformers import AdamW\n",
    "from transformers import get_linear_schedule_with_warmup\n",
    "import gc"
   ]
  },
  {
   "cell_type": "code",
   "execution_count": 2,
   "metadata": {
    "execution": {
     "iopub.execute_input": "2023-07-20T14:11:17.066090Z",
     "iopub.status.busy": "2023-07-20T14:11:17.065333Z",
     "iopub.status.idle": "2023-07-20T14:11:17.069446Z",
     "shell.execute_reply": "2023-07-20T14:11:17.068932Z"
    },
    "papermill": {
     "duration": 0.040059,
     "end_time": "2023-07-20T14:11:17.069554",
     "exception": false,
     "start_time": "2023-07-20T14:11:17.029495",
     "status": "completed"
    },
    "tags": []
   },
   "outputs": [
    {
     "name": "stdout",
     "output_type": "stream",
     "text": [
      "2023-07-20 14:11:17.063716\n"
     ]
    }
   ],
   "source": [
    "import datetime\n",
    "print(datetime.datetime.now())"
   ]
  },
  {
   "cell_type": "code",
   "execution_count": 3,
   "metadata": {
    "execution": {
     "iopub.execute_input": "2023-07-20T14:11:17.136507Z",
     "iopub.status.busy": "2023-07-20T14:11:17.135755Z",
     "iopub.status.idle": "2023-07-20T14:11:17.138932Z",
     "shell.execute_reply": "2023-07-20T14:11:17.138460Z"
    },
    "papermill": {
     "duration": 0.037794,
     "end_time": "2023-07-20T14:11:17.139028",
     "exception": false,
     "start_time": "2023-07-20T14:11:17.101234",
     "status": "completed"
    },
    "tags": []
   },
   "outputs": [],
   "source": [
    "ner_data_path = '/kaggle/input/sd-key-columns/SD_key_columns.csv'"
   ]
  },
  {
   "cell_type": "code",
   "execution_count": 4,
   "metadata": {
    "execution": {
     "iopub.execute_input": "2023-07-20T14:11:17.211740Z",
     "iopub.status.busy": "2023-07-20T14:11:17.211149Z",
     "iopub.status.idle": "2023-07-20T14:11:17.320152Z",
     "shell.execute_reply": "2023-07-20T14:11:17.319628Z"
    },
    "papermill": {
     "duration": 0.148115,
     "end_time": "2023-07-20T14:11:17.320272",
     "exception": false,
     "start_time": "2023-07-20T14:11:17.172157",
     "status": "completed"
    },
    "tags": []
   },
   "outputs": [
    {
     "data": {
      "text/plain": [
       "(74439, 2)"
      ]
     },
     "execution_count": 4,
     "metadata": {},
     "output_type": "execute_result"
    }
   ],
   "source": [
    "ner_file = pd.read_csv(ner_data_path)\n",
    "ner_file.shape"
   ]
  },
  {
   "cell_type": "code",
   "execution_count": 5,
   "metadata": {
    "execution": {
     "iopub.execute_input": "2023-07-20T14:11:17.399859Z",
     "iopub.status.busy": "2023-07-20T14:11:17.398958Z",
     "iopub.status.idle": "2023-07-20T14:11:17.406623Z",
     "shell.execute_reply": "2023-07-20T14:11:17.407106Z"
    },
    "papermill": {
     "duration": 0.05415,
     "end_time": "2023-07-20T14:11:17.407229",
     "exception": false,
     "start_time": "2023-07-20T14:11:17.353079",
     "status": "completed"
    },
    "tags": []
   },
   "outputs": [
    {
     "data": {
      "text/html": [
       "<div>\n",
       "<style scoped>\n",
       "    .dataframe tbody tr th:only-of-type {\n",
       "        vertical-align: middle;\n",
       "    }\n",
       "\n",
       "    .dataframe tbody tr th {\n",
       "        vertical-align: top;\n",
       "    }\n",
       "\n",
       "    .dataframe thead th {\n",
       "        text-align: right;\n",
       "    }\n",
       "</style>\n",
       "<table border=\"1\" class=\"dataframe\">\n",
       "  <thead>\n",
       "    <tr style=\"text-align: right;\">\n",
       "      <th></th>\n",
       "      <th>DBA_ID_f</th>\n",
       "      <th>OWNER_NAME</th>\n",
       "    </tr>\n",
       "  </thead>\n",
       "  <tbody>\n",
       "    <tr>\n",
       "      <th>0</th>\n",
       "      <td>UB934057_0</td>\n",
       "      <td>David Elliott</td>\n",
       "    </tr>\n",
       "    <tr>\n",
       "      <th>1</th>\n",
       "      <td>UB934058_1</td>\n",
       "      <td>J and J Enterprises</td>\n",
       "    </tr>\n",
       "    <tr>\n",
       "      <th>2</th>\n",
       "      <td>UB934059_2</td>\n",
       "      <td>Subsidiary of Ascend One Corporation</td>\n",
       "    </tr>\n",
       "    <tr>\n",
       "      <th>3</th>\n",
       "      <td>UB934060_3</td>\n",
       "      <td>Subsidiary of Ascend One Corporation</td>\n",
       "    </tr>\n",
       "    <tr>\n",
       "      <th>4</th>\n",
       "      <td>UB934061_4</td>\n",
       "      <td>Subsidiary of Ascend One Corporation</td>\n",
       "    </tr>\n",
       "  </tbody>\n",
       "</table>\n",
       "</div>"
      ],
      "text/plain": [
       "     DBA_ID_f                            OWNER_NAME\n",
       "0  UB934057_0                         David Elliott\n",
       "1  UB934058_1                   J and J Enterprises\n",
       "2  UB934059_2  Subsidiary of Ascend One Corporation\n",
       "3  UB934060_3  Subsidiary of Ascend One Corporation\n",
       "4  UB934061_4  Subsidiary of Ascend One Corporation"
      ]
     },
     "execution_count": 5,
     "metadata": {},
     "output_type": "execute_result"
    }
   ],
   "source": [
    "ner_file.head(5)"
   ]
  },
  {
   "cell_type": "code",
   "execution_count": 6,
   "metadata": {
    "execution": {
     "iopub.execute_input": "2023-07-20T14:11:17.484835Z",
     "iopub.status.busy": "2023-07-20T14:11:17.484059Z",
     "iopub.status.idle": "2023-07-20T14:11:17.487496Z",
     "shell.execute_reply": "2023-07-20T14:11:17.486986Z"
    },
    "papermill": {
     "duration": 0.046944,
     "end_time": "2023-07-20T14:11:17.487615",
     "exception": false,
     "start_time": "2023-07-20T14:11:17.440671",
     "status": "completed"
    },
    "tags": []
   },
   "outputs": [],
   "source": [
    "ner_file = ner_file[['DBA_ID_f','OWNER_NAME']]"
   ]
  },
  {
   "cell_type": "code",
   "execution_count": null,
   "metadata": {
    "papermill": {
     "duration": 0.033258,
     "end_time": "2023-07-20T14:11:17.554795",
     "exception": false,
     "start_time": "2023-07-20T14:11:17.521537",
     "status": "completed"
    },
    "tags": []
   },
   "outputs": [],
   "source": []
  },
  {
   "cell_type": "code",
   "execution_count": 7,
   "metadata": {
    "execution": {
     "iopub.execute_input": "2023-07-20T14:11:17.626071Z",
     "iopub.status.busy": "2023-07-20T14:11:17.625178Z",
     "iopub.status.idle": "2023-07-20T14:11:17.629576Z",
     "shell.execute_reply": "2023-07-20T14:11:17.628930Z"
    },
    "papermill": {
     "duration": 0.041578,
     "end_time": "2023-07-20T14:11:17.629680",
     "exception": false,
     "start_time": "2023-07-20T14:11:17.588102",
     "status": "completed"
    },
    "tags": []
   },
   "outputs": [
    {
     "name": "stdout",
     "output_type": "stream",
     "text": [
      "(74439, 2)\n"
     ]
    }
   ],
   "source": [
    "#ner_file = ner_file[:10000]\n",
    "print(ner_file.shape)"
   ]
  },
  {
   "cell_type": "code",
   "execution_count": 8,
   "metadata": {
    "execution": {
     "iopub.execute_input": "2023-07-20T14:11:17.705923Z",
     "iopub.status.busy": "2023-07-20T14:11:17.705123Z",
     "iopub.status.idle": "2023-07-20T14:11:17.708038Z",
     "shell.execute_reply": "2023-07-20T14:11:17.707542Z"
    },
    "papermill": {
     "duration": 0.044832,
     "end_time": "2023-07-20T14:11:17.708142",
     "exception": false,
     "start_time": "2023-07-20T14:11:17.663310",
     "status": "completed"
    },
    "tags": []
   },
   "outputs": [],
   "source": [
    "ner_file.rename(columns = {'DBA_ID_f':'Charter_Num','OWNER_NAME':'Name'},inplace= True)"
   ]
  },
  {
   "cell_type": "code",
   "execution_count": 9,
   "metadata": {
    "execution": {
     "iopub.execute_input": "2023-07-20T14:11:17.778701Z",
     "iopub.status.busy": "2023-07-20T14:11:17.777845Z",
     "iopub.status.idle": "2023-07-20T14:11:17.788101Z",
     "shell.execute_reply": "2023-07-20T14:11:17.787506Z"
    },
    "papermill": {
     "duration": 0.04645,
     "end_time": "2023-07-20T14:11:17.788194",
     "exception": false,
     "start_time": "2023-07-20T14:11:17.741744",
     "status": "completed"
    },
    "tags": []
   },
   "outputs": [
    {
     "data": {
      "text/html": [
       "<div>\n",
       "<style scoped>\n",
       "    .dataframe tbody tr th:only-of-type {\n",
       "        vertical-align: middle;\n",
       "    }\n",
       "\n",
       "    .dataframe tbody tr th {\n",
       "        vertical-align: top;\n",
       "    }\n",
       "\n",
       "    .dataframe thead th {\n",
       "        text-align: right;\n",
       "    }\n",
       "</style>\n",
       "<table border=\"1\" class=\"dataframe\">\n",
       "  <thead>\n",
       "    <tr style=\"text-align: right;\">\n",
       "      <th></th>\n",
       "      <th>Charter_Num</th>\n",
       "      <th>Name</th>\n",
       "    </tr>\n",
       "  </thead>\n",
       "  <tbody>\n",
       "    <tr>\n",
       "      <th>0</th>\n",
       "      <td>UB934057_0</td>\n",
       "      <td>David Elliott</td>\n",
       "    </tr>\n",
       "    <tr>\n",
       "      <th>1</th>\n",
       "      <td>UB934058_1</td>\n",
       "      <td>J and J Enterprises</td>\n",
       "    </tr>\n",
       "    <tr>\n",
       "      <th>2</th>\n",
       "      <td>UB934059_2</td>\n",
       "      <td>Subsidiary of Ascend One Corporation</td>\n",
       "    </tr>\n",
       "    <tr>\n",
       "      <th>3</th>\n",
       "      <td>UB934060_3</td>\n",
       "      <td>Subsidiary of Ascend One Corporation</td>\n",
       "    </tr>\n",
       "    <tr>\n",
       "      <th>4</th>\n",
       "      <td>UB934061_4</td>\n",
       "      <td>Subsidiary of Ascend One Corporation</td>\n",
       "    </tr>\n",
       "  </tbody>\n",
       "</table>\n",
       "</div>"
      ],
      "text/plain": [
       "  Charter_Num                                  Name\n",
       "0  UB934057_0                         David Elliott\n",
       "1  UB934058_1                   J and J Enterprises\n",
       "2  UB934059_2  Subsidiary of Ascend One Corporation\n",
       "3  UB934060_3  Subsidiary of Ascend One Corporation\n",
       "4  UB934061_4  Subsidiary of Ascend One Corporation"
      ]
     },
     "execution_count": 9,
     "metadata": {},
     "output_type": "execute_result"
    }
   ],
   "source": [
    "ner_file.head(5)"
   ]
  },
  {
   "cell_type": "code",
   "execution_count": 10,
   "metadata": {
    "execution": {
     "iopub.execute_input": "2023-07-20T14:11:17.870154Z",
     "iopub.status.busy": "2023-07-20T14:11:17.869293Z",
     "iopub.status.idle": "2023-07-20T14:11:17.872302Z",
     "shell.execute_reply": "2023-07-20T14:11:17.871777Z"
    },
    "papermill": {
     "duration": 0.050235,
     "end_time": "2023-07-20T14:11:17.872430",
     "exception": false,
     "start_time": "2023-07-20T14:11:17.822195",
     "status": "completed"
    },
    "tags": []
   },
   "outputs": [],
   "source": [
    "def process_test_data(data_path):\n",
    "    df = pd.read_csv(data_path, encoding=\"latin-1\")\n",
    "    \n",
    "    df = df[['DBA_ID_f','OWNER_NAME']]\n",
    "    #df = df[:10000]\n",
    "    df.rename(columns = {'DBA_ID_f':'Charter_Num','OWNER_NAME':'Name'},inplace= True)\n",
    "    df['Name'].fillna('unknown',inplace= True)\n",
    "    print(df.head(5))\n",
    "    #df['sent_len'] = df['Bus_Name'].str.split().len()\n",
    "    \n",
    "    #df.loc[:, \"Sentence #\"] = df[\"Sentence #\"].fillna(method=\"ffill\")\n",
    "\n",
    "    #enc_pos = preprocessing.LabelEncoder()\n",
    "    #enc_tag = preprocessing.LabelEncoder()\n",
    "\n",
    "    #df.loc[:, \"POS\"] = enc_pos.fit_transform(df[\"POS\"])\n",
    "    #df.loc[:, \"Tag\"] = enc_tag.fit_transform(df[\"Tag\"])\n",
    "    \n",
    "    long_data_frame = pd.DataFrame([(row[1].Charter_Num,word) for row in df[['Charter_Num','Name']].iterrows()\n",
    "                         for word in row[1].Name.split()],columns= ['Charter_Num','word'])\n",
    "    long_data_frame['pos'] = 0\n",
    "    long_data_frame['tags'] = 0\n",
    "\n",
    "    #sentences = long_data_frame.groupby(['Charter_Num'])['Bus_Name'].apply(list).values\n",
    "    \n",
    "    #pos=[[0] * len(sentences)], \n",
    "    #tags=[[0] * len(sentences)]\n",
    "    \n",
    "    sentences = long_data_frame.groupby(\"Charter_Num\")[\"word\"].apply(list).values\n",
    "    pos = long_data_frame.groupby(\"Charter_Num\")[\"pos\"].apply(list).values\n",
    "    tag = long_data_frame.groupby(\"Charter_Num\")[\"tags\"].apply(list).values\n",
    "    Charter_Num_list = long_data_frame.groupby(\"Charter_Num\")[\"Charter_Num\"].apply(list).values\n",
    "    \n",
    "    return sentences, pos, tag,Charter_Num_list"
   ]
  },
  {
   "cell_type": "code",
   "execution_count": 11,
   "metadata": {
    "execution": {
     "iopub.execute_input": "2023-07-20T14:11:17.946059Z",
     "iopub.status.busy": "2023-07-20T14:11:17.945446Z",
     "iopub.status.idle": "2023-07-20T14:12:00.573131Z",
     "shell.execute_reply": "2023-07-20T14:12:00.572144Z"
    },
    "papermill": {
     "duration": 42.66629,
     "end_time": "2023-07-20T14:12:00.573257",
     "exception": false,
     "start_time": "2023-07-20T14:11:17.906967",
     "status": "completed"
    },
    "tags": []
   },
   "outputs": [
    {
     "name": "stdout",
     "output_type": "stream",
     "text": [
      "  Charter_Num                                  Name\n",
      "0  UB934057_0                         David Elliott\n",
      "1  UB934058_1                   J and J Enterprises\n",
      "2  UB934059_2  Subsidiary of Ascend One Corporation\n",
      "3  UB934060_3  Subsidiary of Ascend One Corporation\n",
      "4  UB934061_4  Subsidiary of Ascend One Corporation\n"
     ]
    }
   ],
   "source": [
    "#data_path = '../input/oh-formatch-v2-unknown/OH_formatch_v2_unknown.csv'\n",
    "test_pred_sentences,test_pos,test_tag,Charter_Num_list = process_test_data(ner_data_path)"
   ]
  },
  {
   "cell_type": "code",
   "execution_count": 12,
   "metadata": {
    "execution": {
     "iopub.execute_input": "2023-07-20T14:12:00.656997Z",
     "iopub.status.busy": "2023-07-20T14:12:00.656226Z",
     "iopub.status.idle": "2023-07-20T14:12:13.606841Z",
     "shell.execute_reply": "2023-07-20T14:12:13.606093Z"
    },
    "papermill": {
     "duration": 12.994521,
     "end_time": "2023-07-20T14:12:13.606959",
     "exception": false,
     "start_time": "2023-07-20T14:12:00.612438",
     "status": "completed"
    },
    "tags": []
   },
   "outputs": [
    {
     "name": "stdout",
     "output_type": "stream",
     "text": [
      "  Charter_Num                                  Name\n",
      "0  UB934057_0                         David Elliott\n",
      "1  UB934058_1                   J and J Enterprises\n",
      "2  UB934059_2  Subsidiary of Ascend One Corporation\n",
      "3  UB934060_3  Subsidiary of Ascend One Corporation\n",
      "4  UB934061_4  Subsidiary of Ascend One Corporation\n"
     ]
    }
   ],
   "source": [
    "    df = pd.read_csv(ner_data_path, encoding=\"latin-1\")\n",
    "    df = df[['DBA_ID_f','OWNER_NAME']]\n",
    "    #df = df[:10000]\n",
    "    df.rename(columns = {'DBA_ID_f':'Charter_Num','OWNER_NAME':'Name'},inplace= True)\n",
    "    df['Name'].fillna('unknown',inplace= True)\n",
    "    print(df.head(5))\n",
    "    #df['sent_len'] = df['Bus_Name'].str.split().len()\n",
    "    \n",
    "    #df.loc[:, \"Sentence #\"] = df[\"Sentence #\"].fillna(method=\"ffill\")\n",
    "\n",
    "    #enc_pos = preprocessing.LabelEncoder()\n",
    "    #enc_tag = preprocessing.LabelEncoder()\n",
    "\n",
    "    #df.loc[:, \"POS\"] = enc_pos.fit_transform(df[\"POS\"])\n",
    "    #df.loc[:, \"Tag\"] = enc_tag.fit_transform(df[\"Tag\"])\n",
    "    \n",
    "    long_data_frame = pd.DataFrame([(row[1].Charter_Num,word) for row in df[['Charter_Num','Name']].iterrows()\n",
    "                         for word in row[1].Name.split()],columns= ['Charter_Num','word'])\n",
    "    long_data_frame['pos'] = 0\n",
    "    long_data_frame['tags'] = 0\n"
   ]
  },
  {
   "cell_type": "code",
   "execution_count": 13,
   "metadata": {
    "execution": {
     "iopub.execute_input": "2023-07-20T14:12:13.698920Z",
     "iopub.status.busy": "2023-07-20T14:12:13.697153Z",
     "iopub.status.idle": "2023-07-20T14:12:13.702392Z",
     "shell.execute_reply": "2023-07-20T14:12:13.702880Z"
    },
    "papermill": {
     "duration": 0.058776,
     "end_time": "2023-07-20T14:12:13.703007",
     "exception": false,
     "start_time": "2023-07-20T14:12:13.644231",
     "status": "completed"
    },
    "tags": []
   },
   "outputs": [
    {
     "data": {
      "text/html": [
       "<div>\n",
       "<style scoped>\n",
       "    .dataframe tbody tr th:only-of-type {\n",
       "        vertical-align: middle;\n",
       "    }\n",
       "\n",
       "    .dataframe tbody tr th {\n",
       "        vertical-align: top;\n",
       "    }\n",
       "\n",
       "    .dataframe thead th {\n",
       "        text-align: right;\n",
       "    }\n",
       "</style>\n",
       "<table border=\"1\" class=\"dataframe\">\n",
       "  <thead>\n",
       "    <tr style=\"text-align: right;\">\n",
       "      <th></th>\n",
       "      <th>Charter_Num</th>\n",
       "      <th>word</th>\n",
       "      <th>pos</th>\n",
       "      <th>tags</th>\n",
       "    </tr>\n",
       "  </thead>\n",
       "  <tbody>\n",
       "    <tr>\n",
       "      <th>0</th>\n",
       "      <td>UB934057_0</td>\n",
       "      <td>David</td>\n",
       "      <td>0</td>\n",
       "      <td>0</td>\n",
       "    </tr>\n",
       "    <tr>\n",
       "      <th>1</th>\n",
       "      <td>UB934057_0</td>\n",
       "      <td>Elliott</td>\n",
       "      <td>0</td>\n",
       "      <td>0</td>\n",
       "    </tr>\n",
       "    <tr>\n",
       "      <th>2</th>\n",
       "      <td>UB934058_1</td>\n",
       "      <td>J</td>\n",
       "      <td>0</td>\n",
       "      <td>0</td>\n",
       "    </tr>\n",
       "    <tr>\n",
       "      <th>3</th>\n",
       "      <td>UB934058_1</td>\n",
       "      <td>and</td>\n",
       "      <td>0</td>\n",
       "      <td>0</td>\n",
       "    </tr>\n",
       "    <tr>\n",
       "      <th>4</th>\n",
       "      <td>UB934058_1</td>\n",
       "      <td>J</td>\n",
       "      <td>0</td>\n",
       "      <td>0</td>\n",
       "    </tr>\n",
       "    <tr>\n",
       "      <th>...</th>\n",
       "      <td>...</td>\n",
       "      <td>...</td>\n",
       "      <td>...</td>\n",
       "      <td>...</td>\n",
       "    </tr>\n",
       "    <tr>\n",
       "      <th>207439</th>\n",
       "      <td>UB233805_74600</td>\n",
       "      <td>Leiferman</td>\n",
       "      <td>0</td>\n",
       "      <td>0</td>\n",
       "    </tr>\n",
       "    <tr>\n",
       "      <th>207440</th>\n",
       "      <td>UB233806_74601</td>\n",
       "      <td>Cody</td>\n",
       "      <td>0</td>\n",
       "      <td>0</td>\n",
       "    </tr>\n",
       "    <tr>\n",
       "      <th>207441</th>\n",
       "      <td>UB233806_74601</td>\n",
       "      <td>Tyler</td>\n",
       "      <td>0</td>\n",
       "      <td>0</td>\n",
       "    </tr>\n",
       "    <tr>\n",
       "      <th>207442</th>\n",
       "      <td>UB233806_74601</td>\n",
       "      <td>Beitzel</td>\n",
       "      <td>0</td>\n",
       "      <td>0</td>\n",
       "    </tr>\n",
       "    <tr>\n",
       "      <th>207443</th>\n",
       "      <td>UB233806_74601</td>\n",
       "      <td>Wiseman</td>\n",
       "      <td>0</td>\n",
       "      <td>0</td>\n",
       "    </tr>\n",
       "  </tbody>\n",
       "</table>\n",
       "<p>207444 rows × 4 columns</p>\n",
       "</div>"
      ],
      "text/plain": [
       "           Charter_Num       word  pos  tags\n",
       "0           UB934057_0      David    0     0\n",
       "1           UB934057_0    Elliott    0     0\n",
       "2           UB934058_1          J    0     0\n",
       "3           UB934058_1        and    0     0\n",
       "4           UB934058_1          J    0     0\n",
       "...                ...        ...  ...   ...\n",
       "207439  UB233805_74600  Leiferman    0     0\n",
       "207440  UB233806_74601       Cody    0     0\n",
       "207441  UB233806_74601      Tyler    0     0\n",
       "207442  UB233806_74601    Beitzel    0     0\n",
       "207443  UB233806_74601    Wiseman    0     0\n",
       "\n",
       "[207444 rows x 4 columns]"
      ]
     },
     "execution_count": 13,
     "metadata": {},
     "output_type": "execute_result"
    }
   ],
   "source": [
    "long_data_frame"
   ]
  },
  {
   "cell_type": "markdown",
   "metadata": {
    "papermill": {
     "duration": 0.036928,
     "end_time": "2023-07-20T14:12:13.776403",
     "exception": false,
     "start_time": "2023-07-20T14:12:13.739475",
     "status": "completed"
    },
    "tags": []
   },
   "source": [
    "## Some config"
   ]
  },
  {
   "cell_type": "code",
   "execution_count": 14,
   "metadata": {
    "_cell_guid": "79c7e3d0-c299-4dcb-8224-4455121ee9b0",
    "_uuid": "d629ff2d2480ee46fbb7e2d37f6b5fab8052498a",
    "execution": {
     "iopub.execute_input": "2023-07-20T14:12:13.855859Z",
     "iopub.status.busy": "2023-07-20T14:12:13.855232Z",
     "iopub.status.idle": "2023-07-20T14:12:13.903594Z",
     "shell.execute_reply": "2023-07-20T14:12:13.903017Z"
    },
    "papermill": {
     "duration": 0.090445,
     "end_time": "2023-07-20T14:12:13.903701",
     "exception": false,
     "start_time": "2023-07-20T14:12:13.813256",
     "status": "completed"
    },
    "tags": []
   },
   "outputs": [],
   "source": [
    "class config:\n",
    "    MAX_LEN = 128\n",
    "    TRAIN_BATCH_SIZE = 32\n",
    "    VALID_BATCH_SIZE = 8\n",
    "    EPOCHS = 3\n",
    "    BASE_MODEL_PATH = \"../input/bert-base-uncased/\"\n",
    "    MODEL_PATH = '/kaggle/input/entity-classification-model-bert/model.bin'\n",
    "    TRAINING_FILE = \"../input/entity-annotated-corpus/ner_dataset.csv\"\n",
    "    TOKENIZER = transformers.BertTokenizer.from_pretrained(\n",
    "        BASE_MODEL_PATH,\n",
    "        do_lower_case=True\n",
    "    )"
   ]
  },
  {
   "cell_type": "markdown",
   "metadata": {
    "papermill": {
     "duration": 0.036184,
     "end_time": "2023-07-20T14:12:13.977300",
     "exception": false,
     "start_time": "2023-07-20T14:12:13.941116",
     "status": "completed"
    },
    "tags": []
   },
   "source": [
    "## Dataset"
   ]
  },
  {
   "cell_type": "code",
   "execution_count": 15,
   "metadata": {
    "execution": {
     "iopub.execute_input": "2023-07-20T14:12:14.066091Z",
     "iopub.status.busy": "2023-07-20T14:12:14.065099Z",
     "iopub.status.idle": "2023-07-20T14:12:14.074201Z",
     "shell.execute_reply": "2023-07-20T14:12:14.073551Z"
    },
    "papermill": {
     "duration": 0.060445,
     "end_time": "2023-07-20T14:12:14.074309",
     "exception": false,
     "start_time": "2023-07-20T14:12:14.013864",
     "status": "completed"
    },
    "tags": []
   },
   "outputs": [],
   "source": [
    "class EntityDataset:\n",
    "    def __init__(self, texts, pos, tags):\n",
    "        self.texts = texts\n",
    "        self.pos = pos\n",
    "        self.tags = tags\n",
    "    \n",
    "    def __len__(self):\n",
    "        return len(self.texts)\n",
    "    \n",
    "    def __getitem__(self, item):\n",
    "        text = self.texts[item]\n",
    "        pos = self.pos[item]\n",
    "        tags = self.tags[item]\n",
    "\n",
    "        ids = []\n",
    "        target_pos = []\n",
    "        target_tag =[]\n",
    "\n",
    "        for i, s in enumerate(text):\n",
    "            inputs = config.TOKENIZER.encode(\n",
    "                s,\n",
    "                add_special_tokens=False\n",
    "            )\n",
    "            # abhishek: ab ##hi ##sh ##ek\n",
    "            input_len = len(inputs)\n",
    "            ids.extend(inputs)\n",
    "            target_pos.extend([pos[i]] * input_len)\n",
    "            target_tag.extend([tags[i]] * input_len)\n",
    "\n",
    "        ids = ids[:config.MAX_LEN - 2]\n",
    "        target_pos = target_pos[:config.MAX_LEN - 2]\n",
    "        target_tag = target_tag[:config.MAX_LEN - 2]\n",
    "\n",
    "        ids = [101] + ids + [102]\n",
    "        target_pos = [0] + target_pos + [0]\n",
    "        target_tag = [0] + target_tag + [0]\n",
    "\n",
    "        mask = [1] * len(ids)\n",
    "        token_type_ids = [0] * len(ids)\n",
    "\n",
    "        padding_len = config.MAX_LEN - len(ids)\n",
    "\n",
    "        ids = ids + ([0] * padding_len)\n",
    "        mask = mask + ([0] * padding_len)\n",
    "        token_type_ids = token_type_ids + ([0] * padding_len)\n",
    "        target_pos = target_pos + ([0] * padding_len)\n",
    "        target_tag = target_tag + ([0] * padding_len)\n",
    "\n",
    "        return {\n",
    "            \"ids\": torch.tensor(ids, dtype=torch.long),\n",
    "            \"mask\": torch.tensor(mask, dtype=torch.long),\n",
    "            \"token_type_ids\": torch.tensor(token_type_ids, dtype=torch.long),\n",
    "            \"target_pos\": torch.tensor(target_pos, dtype=torch.long),\n",
    "            \"target_tag\": torch.tensor(target_tag, dtype=torch.long),\n",
    "        }"
   ]
  },
  {
   "cell_type": "markdown",
   "metadata": {
    "papermill": {
     "duration": 0.036947,
     "end_time": "2023-07-20T14:12:14.149720",
     "exception": false,
     "start_time": "2023-07-20T14:12:14.112773",
     "status": "completed"
    },
    "tags": []
   },
   "source": [
    "## Training and evaluation functions"
   ]
  },
  {
   "cell_type": "code",
   "execution_count": 16,
   "metadata": {
    "execution": {
     "iopub.execute_input": "2023-07-20T14:12:14.235576Z",
     "iopub.status.busy": "2023-07-20T14:12:14.234715Z",
     "iopub.status.idle": "2023-07-20T14:12:14.237212Z",
     "shell.execute_reply": "2023-07-20T14:12:14.237840Z"
    },
    "papermill": {
     "duration": 0.051196,
     "end_time": "2023-07-20T14:12:14.237965",
     "exception": false,
     "start_time": "2023-07-20T14:12:14.186769",
     "status": "completed"
    },
    "tags": []
   },
   "outputs": [],
   "source": [
    "def train_fn(data_loader, model, optimizer, device, scheduler):\n",
    "    model.train()\n",
    "    final_loss = 0\n",
    "    for data in tqdm(data_loader, total=len(data_loader)):\n",
    "        for k, v in data.items():\n",
    "            data[k] = v.to(device)\n",
    "        optimizer.zero_grad()\n",
    "        _, _, loss = model(**data)\n",
    "        loss.backward()\n",
    "        optimizer.step()\n",
    "        scheduler.step()\n",
    "        final_loss += loss.item()\n",
    "    return final_loss / len(data_loader)\n",
    "\n",
    "\n",
    "def eval_fn(data_loader, model, device):\n",
    "    model.eval()\n",
    "    final_loss = 0\n",
    "    for data in tqdm(data_loader, total=len(data_loader)):\n",
    "        for k, v in data.items():\n",
    "            data[k] = v.to(device)\n",
    "        _, _, loss = model(**data)\n",
    "        final_loss += loss.item()\n",
    "    return final_loss / len(data_loader)"
   ]
  },
  {
   "cell_type": "markdown",
   "metadata": {
    "papermill": {
     "duration": 0.043749,
     "end_time": "2023-07-20T14:12:14.318523",
     "exception": false,
     "start_time": "2023-07-20T14:12:14.274774",
     "status": "completed"
    },
    "tags": []
   },
   "source": [
    "## Loss function and model"
   ]
  },
  {
   "cell_type": "code",
   "execution_count": 17,
   "metadata": {
    "execution": {
     "iopub.execute_input": "2023-07-20T14:12:14.405108Z",
     "iopub.status.busy": "2023-07-20T14:12:14.400214Z",
     "iopub.status.idle": "2023-07-20T14:12:14.411078Z",
     "shell.execute_reply": "2023-07-20T14:12:14.410430Z"
    },
    "papermill": {
     "duration": 0.055669,
     "end_time": "2023-07-20T14:12:14.411178",
     "exception": false,
     "start_time": "2023-07-20T14:12:14.355509",
     "status": "completed"
    },
    "tags": []
   },
   "outputs": [],
   "source": [
    "def loss_fn(output, target, mask, num_labels):\n",
    "    lfn = nn.CrossEntropyLoss()\n",
    "    active_loss = mask.view(-1) == 1\n",
    "    active_logits = output.view(-1, num_labels)\n",
    "    active_labels = torch.where(\n",
    "        active_loss,\n",
    "        target.view(-1),\n",
    "        torch.tensor(lfn.ignore_index).type_as(target)\n",
    "    )\n",
    "    loss = lfn(active_logits, active_labels)\n",
    "    return loss\n",
    "\n",
    "\n",
    "class EntityModel(nn.Module):\n",
    "    def __init__(self, num_tag, num_pos):\n",
    "        super(EntityModel, self).__init__()\n",
    "        self.num_tag = num_tag\n",
    "        self.num_pos = num_pos\n",
    "        self.bert = transformers.BertModel.from_pretrained(\n",
    "            config.BASE_MODEL_PATH\n",
    "        )\n",
    "        self.bert_drop_1 = nn.Dropout(0.3)\n",
    "        self.bert_drop_2 = nn.Dropout(0.3)\n",
    "        self.out_tag = nn.Linear(768, self.num_tag)\n",
    "        self.out_pos = nn.Linear(768, self.num_pos)\n",
    "    \n",
    "    def forward(\n",
    "        self, \n",
    "        ids, \n",
    "        mask, \n",
    "        token_type_ids, \n",
    "        target_pos, \n",
    "        target_tag\n",
    "    ):\n",
    "        o1, _ = self.bert(\n",
    "            ids, \n",
    "            attention_mask=mask, \n",
    "            token_type_ids=token_type_ids\n",
    "        )\n",
    "\n",
    "        bo_tag = self.bert_drop_1(o1)\n",
    "        bo_pos = self.bert_drop_2(o1)\n",
    "\n",
    "        tag = self.out_tag(bo_tag)\n",
    "        pos = self.out_pos(bo_pos)\n",
    "\n",
    "        loss_tag = loss_fn(tag, target_tag, mask, self.num_tag)\n",
    "        loss_pos = loss_fn(pos, target_pos, mask, self.num_pos)\n",
    "\n",
    "        loss = (loss_tag + loss_pos) / 2\n",
    "\n",
    "        return tag, pos, loss"
   ]
  },
  {
   "cell_type": "markdown",
   "metadata": {
    "papermill": {
     "duration": 0.061664,
     "end_time": "2023-07-20T14:12:14.534617",
     "exception": false,
     "start_time": "2023-07-20T14:12:14.472953",
     "status": "completed"
    },
    "tags": []
   },
   "source": [
    "## Data processing"
   ]
  },
  {
   "cell_type": "code",
   "execution_count": 18,
   "metadata": {
    "execution": {
     "iopub.execute_input": "2023-07-20T14:12:14.615065Z",
     "iopub.status.busy": "2023-07-20T14:12:14.614074Z",
     "iopub.status.idle": "2023-07-20T14:12:14.618089Z",
     "shell.execute_reply": "2023-07-20T14:12:14.618557Z"
    },
    "papermill": {
     "duration": 0.046861,
     "end_time": "2023-07-20T14:12:14.618684",
     "exception": false,
     "start_time": "2023-07-20T14:12:14.571823",
     "status": "completed"
    },
    "tags": []
   },
   "outputs": [
    {
     "data": {
      "text/plain": [
       "'\\ndef process_data(data_path):\\n    df = pd.read_csv(data_path, encoding=\"latin-1\")\\n    df.loc[:, \"Sentence #\"] = df[\"Sentence #\"].fillna(method=\"ffill\")\\n    df[\\'Name\\'].fillna(\\'unknown\\',inplace= True)\\n\\n    enc_pos = preprocessing.LabelEncoder()\\n    enc_tag = preprocessing.LabelEncoder()\\n\\n    df.loc[:, \"POS\"] = enc_pos.fit_transform(df[\"POS\"])\\n    df.loc[:, \"Tag\"] = enc_tag.fit_transform(df[\"Tag\"])\\n\\n    sentences = df.groupby(\"Sentence #\")[\"Word\"].apply(list).values\\n    pos = df.groupby(\"Sentence #\")[\"POS\"].apply(list).values\\n    tag = df.groupby(\"Sentence #\")[\"Tag\"].apply(list).values\\n    return sentences, pos, tag, enc_pos, enc_tag\\n'"
      ]
     },
     "execution_count": 18,
     "metadata": {},
     "output_type": "execute_result"
    }
   ],
   "source": [
    "'''\n",
    "def process_data(data_path):\n",
    "    df = pd.read_csv(data_path, encoding=\"latin-1\")\n",
    "    df.loc[:, \"Sentence #\"] = df[\"Sentence #\"].fillna(method=\"ffill\")\n",
    "    df['Name'].fillna('unknown',inplace= True)\n",
    "\n",
    "    enc_pos = preprocessing.LabelEncoder()\n",
    "    enc_tag = preprocessing.LabelEncoder()\n",
    "\n",
    "    df.loc[:, \"POS\"] = enc_pos.fit_transform(df[\"POS\"])\n",
    "    df.loc[:, \"Tag\"] = enc_tag.fit_transform(df[\"Tag\"])\n",
    "\n",
    "    sentences = df.groupby(\"Sentence #\")[\"Word\"].apply(list).values\n",
    "    pos = df.groupby(\"Sentence #\")[\"POS\"].apply(list).values\n",
    "    tag = df.groupby(\"Sentence #\")[\"Tag\"].apply(list).values\n",
    "    return sentences, pos, tag, enc_pos, enc_tag\n",
    "'''"
   ]
  },
  {
   "cell_type": "code",
   "execution_count": 19,
   "metadata": {
    "execution": {
     "iopub.execute_input": "2023-07-20T14:12:14.703722Z",
     "iopub.status.busy": "2023-07-20T14:12:14.702992Z",
     "iopub.status.idle": "2023-07-20T14:12:15.675553Z",
     "shell.execute_reply": "2023-07-20T14:12:15.674896Z"
    },
    "papermill": {
     "duration": 1.019801,
     "end_time": "2023-07-20T14:12:15.675667",
     "exception": false,
     "start_time": "2023-07-20T14:12:14.655866",
     "status": "completed"
    },
    "tags": []
   },
   "outputs": [
    {
     "data": {
      "text/plain": [
       "(1048575, 4)"
      ]
     },
     "execution_count": 19,
     "metadata": {},
     "output_type": "execute_result"
    }
   ],
   "source": [
    "df = pd.read_csv( \"../input/entity-annotated-corpus/ner_dataset.csv\", encoding=\"latin-1\")\n",
    "df.loc[:, \"Sentence #\"] = df[\"Sentence #\"].fillna(method=\"ffill\")\n",
    "#df = df[:10000]\n",
    "\n",
    "df.shape"
   ]
  },
  {
   "cell_type": "code",
   "execution_count": 20,
   "metadata": {
    "execution": {
     "iopub.execute_input": "2023-07-20T14:12:15.765656Z",
     "iopub.status.busy": "2023-07-20T14:12:15.764652Z",
     "iopub.status.idle": "2023-07-20T14:12:15.768429Z",
     "shell.execute_reply": "2023-07-20T14:12:15.768860Z"
    },
    "papermill": {
     "duration": 0.054974,
     "end_time": "2023-07-20T14:12:15.768985",
     "exception": false,
     "start_time": "2023-07-20T14:12:15.714011",
     "status": "completed"
    },
    "tags": []
   },
   "outputs": [
    {
     "data": {
      "text/html": [
       "<div>\n",
       "<style scoped>\n",
       "    .dataframe tbody tr th:only-of-type {\n",
       "        vertical-align: middle;\n",
       "    }\n",
       "\n",
       "    .dataframe tbody tr th {\n",
       "        vertical-align: top;\n",
       "    }\n",
       "\n",
       "    .dataframe thead th {\n",
       "        text-align: right;\n",
       "    }\n",
       "</style>\n",
       "<table border=\"1\" class=\"dataframe\">\n",
       "  <thead>\n",
       "    <tr style=\"text-align: right;\">\n",
       "      <th></th>\n",
       "      <th>Sentence #</th>\n",
       "      <th>Word</th>\n",
       "      <th>POS</th>\n",
       "      <th>Tag</th>\n",
       "    </tr>\n",
       "  </thead>\n",
       "  <tbody>\n",
       "    <tr>\n",
       "      <th>0</th>\n",
       "      <td>Sentence: 1</td>\n",
       "      <td>Thousands</td>\n",
       "      <td>NNS</td>\n",
       "      <td>O</td>\n",
       "    </tr>\n",
       "    <tr>\n",
       "      <th>1</th>\n",
       "      <td>Sentence: 1</td>\n",
       "      <td>of</td>\n",
       "      <td>IN</td>\n",
       "      <td>O</td>\n",
       "    </tr>\n",
       "    <tr>\n",
       "      <th>2</th>\n",
       "      <td>Sentence: 1</td>\n",
       "      <td>demonstrators</td>\n",
       "      <td>NNS</td>\n",
       "      <td>O</td>\n",
       "    </tr>\n",
       "    <tr>\n",
       "      <th>3</th>\n",
       "      <td>Sentence: 1</td>\n",
       "      <td>have</td>\n",
       "      <td>VBP</td>\n",
       "      <td>O</td>\n",
       "    </tr>\n",
       "    <tr>\n",
       "      <th>4</th>\n",
       "      <td>Sentence: 1</td>\n",
       "      <td>marched</td>\n",
       "      <td>VBN</td>\n",
       "      <td>O</td>\n",
       "    </tr>\n",
       "    <tr>\n",
       "      <th>5</th>\n",
       "      <td>Sentence: 1</td>\n",
       "      <td>through</td>\n",
       "      <td>IN</td>\n",
       "      <td>O</td>\n",
       "    </tr>\n",
       "    <tr>\n",
       "      <th>6</th>\n",
       "      <td>Sentence: 1</td>\n",
       "      <td>London</td>\n",
       "      <td>NNP</td>\n",
       "      <td>B-geo</td>\n",
       "    </tr>\n",
       "    <tr>\n",
       "      <th>7</th>\n",
       "      <td>Sentence: 1</td>\n",
       "      <td>to</td>\n",
       "      <td>TO</td>\n",
       "      <td>O</td>\n",
       "    </tr>\n",
       "    <tr>\n",
       "      <th>8</th>\n",
       "      <td>Sentence: 1</td>\n",
       "      <td>protest</td>\n",
       "      <td>VB</td>\n",
       "      <td>O</td>\n",
       "    </tr>\n",
       "    <tr>\n",
       "      <th>9</th>\n",
       "      <td>Sentence: 1</td>\n",
       "      <td>the</td>\n",
       "      <td>DT</td>\n",
       "      <td>O</td>\n",
       "    </tr>\n",
       "    <tr>\n",
       "      <th>10</th>\n",
       "      <td>Sentence: 1</td>\n",
       "      <td>war</td>\n",
       "      <td>NN</td>\n",
       "      <td>O</td>\n",
       "    </tr>\n",
       "    <tr>\n",
       "      <th>11</th>\n",
       "      <td>Sentence: 1</td>\n",
       "      <td>in</td>\n",
       "      <td>IN</td>\n",
       "      <td>O</td>\n",
       "    </tr>\n",
       "    <tr>\n",
       "      <th>12</th>\n",
       "      <td>Sentence: 1</td>\n",
       "      <td>Iraq</td>\n",
       "      <td>NNP</td>\n",
       "      <td>B-geo</td>\n",
       "    </tr>\n",
       "    <tr>\n",
       "      <th>13</th>\n",
       "      <td>Sentence: 1</td>\n",
       "      <td>and</td>\n",
       "      <td>CC</td>\n",
       "      <td>O</td>\n",
       "    </tr>\n",
       "    <tr>\n",
       "      <th>14</th>\n",
       "      <td>Sentence: 1</td>\n",
       "      <td>demand</td>\n",
       "      <td>VB</td>\n",
       "      <td>O</td>\n",
       "    </tr>\n",
       "  </tbody>\n",
       "</table>\n",
       "</div>"
      ],
      "text/plain": [
       "     Sentence #           Word  POS    Tag\n",
       "0   Sentence: 1      Thousands  NNS      O\n",
       "1   Sentence: 1             of   IN      O\n",
       "2   Sentence: 1  demonstrators  NNS      O\n",
       "3   Sentence: 1           have  VBP      O\n",
       "4   Sentence: 1        marched  VBN      O\n",
       "5   Sentence: 1        through   IN      O\n",
       "6   Sentence: 1         London  NNP  B-geo\n",
       "7   Sentence: 1             to   TO      O\n",
       "8   Sentence: 1        protest   VB      O\n",
       "9   Sentence: 1            the   DT      O\n",
       "10  Sentence: 1            war   NN      O\n",
       "11  Sentence: 1             in   IN      O\n",
       "12  Sentence: 1           Iraq  NNP  B-geo\n",
       "13  Sentence: 1            and   CC      O\n",
       "14  Sentence: 1         demand   VB      O"
      ]
     },
     "execution_count": 20,
     "metadata": {},
     "output_type": "execute_result"
    }
   ],
   "source": [
    "df.head(15)"
   ]
  },
  {
   "cell_type": "markdown",
   "metadata": {
    "papermill": {
     "duration": 0.038725,
     "end_time": "2023-07-20T14:12:15.846284",
     "exception": false,
     "start_time": "2023-07-20T14:12:15.807559",
     "status": "completed"
    },
    "tags": []
   },
   "source": [
    "## Training"
   ]
  },
  {
   "cell_type": "code",
   "execution_count": 21,
   "metadata": {
    "execution": {
     "iopub.execute_input": "2023-07-20T14:12:15.932337Z",
     "iopub.status.busy": "2023-07-20T14:12:15.931313Z",
     "iopub.status.idle": "2023-07-20T14:12:15.935225Z",
     "shell.execute_reply": "2023-07-20T14:12:15.935700Z"
    },
    "papermill": {
     "duration": 0.05057,
     "end_time": "2023-07-20T14:12:15.935822",
     "exception": false,
     "start_time": "2023-07-20T14:12:15.885252",
     "status": "completed"
    },
    "tags": []
   },
   "outputs": [
    {
     "data": {
      "text/plain": [
       "'\\nsentences, pos, tag, enc_pos, enc_tag = process_data(config.TRAINING_FILE)\\n\\nmeta_data = {\\n    \"enc_pos\": enc_pos,\\n    \"enc_tag\": enc_tag\\n}\\n\\njoblib.dump(meta_data, \"meta.bin\")\\n\\nnum_pos = len(list(enc_pos.classes_))\\nnum_tag = len(list(enc_tag.classes_))\\n\\n(\\n    train_sentences,\\n    test_sentences,\\n    train_pos,\\n    test_pos,\\n    train_tag,\\n    test_tag\\n) = model_selection.train_test_split(\\n    sentences, \\n    pos, \\n    tag, \\n    random_state=42, \\n    test_size=0.1\\n)\\n\\ntrain_dataset = EntityDataset(\\n    texts=train_sentences, pos=train_pos, tags=train_tag\\n)\\n\\ntrain_data_loader = torch.utils.data.DataLoader(\\n    train_dataset, batch_size=config.TRAIN_BATCH_SIZE, num_workers=4\\n)\\n\\nvalid_dataset = EntityDataset(\\n    texts=test_sentences, pos=test_pos, tags=test_tag\\n)\\n\\nvalid_data_loader = torch.utils.data.DataLoader(\\n    valid_dataset, batch_size=config.VALID_BATCH_SIZE, num_workers=1\\n)\\n\\ndevice = torch.device(\"cuda\")\\nmodel = EntityModel(num_tag=num_tag, num_pos=num_pos)\\nmodel.to(device)\\n\\nparam_optimizer = list(model.named_parameters())\\nno_decay = [\"bias\", \"LayerNorm.bias\", \"LayerNorm.weight\"]\\noptimizer_parameters = [\\n    {\\n        \"params\": [\\n            p for n, p in param_optimizer if not any(\\n                nd in n for nd in no_decay\\n            )\\n        ],\\n        \"weight_decay\": 0.001,\\n    },\\n    {\\n        \"params\": [\\n            p for n, p in param_optimizer if any(\\n                nd in n for nd in no_decay\\n            )\\n        ],\\n        \"weight_decay\": 0.0,\\n    },\\n]\\n\\nnum_train_steps = int(\\n    len(train_sentences) / config.TRAIN_BATCH_SIZE * config.EPOCHS\\n)\\noptimizer = AdamW(optimizer_parameters, lr=3e-5)\\nscheduler = get_linear_schedule_with_warmup(\\n    optimizer, \\n    num_warmup_steps=0, \\n    num_training_steps=num_train_steps\\n)\\n\\nbest_loss = np.inf\\nfor epoch in range(config.EPOCHS):\\n    train_loss = train_fn(\\n        train_data_loader, \\n        model, \\n        optimizer, \\n        device, \\n        scheduler\\n    )\\n    test_loss = eval_fn(\\n        valid_data_loader,\\n        model,\\n        device\\n    )\\n    print(f\"Train Loss = {train_loss} Valid Loss = {test_loss}\")\\n    if test_loss < best_loss:\\n        torch.save(model.state_dict(), config.MODEL_PATH)\\n        best_loss = test_loss\\n        \\n'"
      ]
     },
     "execution_count": 21,
     "metadata": {},
     "output_type": "execute_result"
    }
   ],
   "source": [
    "'''\n",
    "sentences, pos, tag, enc_pos, enc_tag = process_data(config.TRAINING_FILE)\n",
    "\n",
    "meta_data = {\n",
    "    \"enc_pos\": enc_pos,\n",
    "    \"enc_tag\": enc_tag\n",
    "}\n",
    "\n",
    "joblib.dump(meta_data, \"meta.bin\")\n",
    "\n",
    "num_pos = len(list(enc_pos.classes_))\n",
    "num_tag = len(list(enc_tag.classes_))\n",
    "\n",
    "(\n",
    "    train_sentences,\n",
    "    test_sentences,\n",
    "    train_pos,\n",
    "    test_pos,\n",
    "    train_tag,\n",
    "    test_tag\n",
    ") = model_selection.train_test_split(\n",
    "    sentences, \n",
    "    pos, \n",
    "    tag, \n",
    "    random_state=42, \n",
    "    test_size=0.1\n",
    ")\n",
    "\n",
    "train_dataset = EntityDataset(\n",
    "    texts=train_sentences, pos=train_pos, tags=train_tag\n",
    ")\n",
    "\n",
    "train_data_loader = torch.utils.data.DataLoader(\n",
    "    train_dataset, batch_size=config.TRAIN_BATCH_SIZE, num_workers=4\n",
    ")\n",
    "\n",
    "valid_dataset = EntityDataset(\n",
    "    texts=test_sentences, pos=test_pos, tags=test_tag\n",
    ")\n",
    "\n",
    "valid_data_loader = torch.utils.data.DataLoader(\n",
    "    valid_dataset, batch_size=config.VALID_BATCH_SIZE, num_workers=1\n",
    ")\n",
    "\n",
    "device = torch.device(\"cuda\")\n",
    "model = EntityModel(num_tag=num_tag, num_pos=num_pos)\n",
    "model.to(device)\n",
    "\n",
    "param_optimizer = list(model.named_parameters())\n",
    "no_decay = [\"bias\", \"LayerNorm.bias\", \"LayerNorm.weight\"]\n",
    "optimizer_parameters = [\n",
    "    {\n",
    "        \"params\": [\n",
    "            p for n, p in param_optimizer if not any(\n",
    "                nd in n for nd in no_decay\n",
    "            )\n",
    "        ],\n",
    "        \"weight_decay\": 0.001,\n",
    "    },\n",
    "    {\n",
    "        \"params\": [\n",
    "            p for n, p in param_optimizer if any(\n",
    "                nd in n for nd in no_decay\n",
    "            )\n",
    "        ],\n",
    "        \"weight_decay\": 0.0,\n",
    "    },\n",
    "]\n",
    "\n",
    "num_train_steps = int(\n",
    "    len(train_sentences) / config.TRAIN_BATCH_SIZE * config.EPOCHS\n",
    ")\n",
    "optimizer = AdamW(optimizer_parameters, lr=3e-5)\n",
    "scheduler = get_linear_schedule_with_warmup(\n",
    "    optimizer, \n",
    "    num_warmup_steps=0, \n",
    "    num_training_steps=num_train_steps\n",
    ")\n",
    "\n",
    "best_loss = np.inf\n",
    "for epoch in range(config.EPOCHS):\n",
    "    train_loss = train_fn(\n",
    "        train_data_loader, \n",
    "        model, \n",
    "        optimizer, \n",
    "        device, \n",
    "        scheduler\n",
    "    )\n",
    "    test_loss = eval_fn(\n",
    "        valid_data_loader,\n",
    "        model,\n",
    "        device\n",
    "    )\n",
    "    print(f\"Train Loss = {train_loss} Valid Loss = {test_loss}\")\n",
    "    if test_loss < best_loss:\n",
    "        torch.save(model.state_dict(), config.MODEL_PATH)\n",
    "        best_loss = test_loss\n",
    "        \n",
    "'''"
   ]
  },
  {
   "cell_type": "markdown",
   "metadata": {
    "papermill": {
     "duration": 0.039867,
     "end_time": "2023-07-20T14:12:16.015109",
     "exception": false,
     "start_time": "2023-07-20T14:12:15.975242",
     "status": "completed"
    },
    "tags": []
   },
   "source": [
    "## Inference"
   ]
  },
  {
   "cell_type": "code",
   "execution_count": 22,
   "metadata": {
    "execution": {
     "iopub.execute_input": "2023-07-20T14:12:16.098295Z",
     "iopub.status.busy": "2023-07-20T14:12:16.097463Z",
     "iopub.status.idle": "2023-07-20T14:12:16.100972Z",
     "shell.execute_reply": "2023-07-20T14:12:16.101417Z"
    },
    "papermill": {
     "duration": 0.047483,
     "end_time": "2023-07-20T14:12:16.101540",
     "exception": false,
     "start_time": "2023-07-20T14:12:16.054057",
     "status": "completed"
    },
    "tags": []
   },
   "outputs": [
    {
     "data": {
      "text/plain": [
       "'\\nLoreto House\\nArt Weeks\\nRob Painter\\nJacquelyn Minchew LPC\\nSoleil Salon\\nNancy M Service, PhD\\n'"
      ]
     },
     "execution_count": 22,
     "metadata": {},
     "output_type": "execute_result"
    }
   ],
   "source": [
    "'''\n",
    "Loreto House\n",
    "Art Weeks\n",
    "Rob Painter\n",
    "Jacquelyn Minchew LPC\n",
    "Soleil Salon\n",
    "Nancy M Service, PhD\n",
    "'''"
   ]
  },
  {
   "cell_type": "code",
   "execution_count": 23,
   "metadata": {
    "execution": {
     "iopub.execute_input": "2023-07-20T14:12:16.204764Z",
     "iopub.status.busy": "2023-07-20T14:12:16.201328Z",
     "iopub.status.idle": "2023-07-20T14:12:29.987854Z",
     "shell.execute_reply": "2023-07-20T14:12:29.988490Z"
    },
    "papermill": {
     "duration": 13.846964,
     "end_time": "2023-07-20T14:12:29.988652",
     "exception": false,
     "start_time": "2023-07-20T14:12:16.141688",
     "status": "completed"
    },
    "tags": []
   },
   "outputs": [
    {
     "name": "stdout",
     "output_type": "stream",
     "text": [
      "['ROSE', 'M', 'KENNELLY']\n",
      "['[CLS]', 'rose', 'm', 'ken', '##nell', '##y', '[SEP]']\n",
      "[101, 3123, 1049, 6358, 9091, 2100, 102]\n",
      "['B-art' 'B-per' 'I-per' 'I-per' 'I-per' 'I-per' 'B-art']\n"
     ]
    }
   ],
   "source": [
    "\n",
    "\n",
    "meta_data = joblib.load(\"/kaggle/input/entity-classification-model-bert/meta.bin\")\n",
    "enc_pos = meta_data[\"enc_pos\"]\n",
    "enc_tag = meta_data[\"enc_tag\"]\n",
    "\n",
    "num_pos = len(list(enc_pos.classes_))\n",
    "num_tag = len(list(enc_tag.classes_))\n",
    "sentence = \"\"\"\n",
    "ROSE M KENNELLY\n",
    "\"\"\"\n",
    "'''\n",
    "sentence = \"\"\"\n",
    "Mr. Trump’s tweets began just moments after a Fox News report by Mike Tobin, a \n",
    "reporter for the network, about protests in Minnesota and elsewhere. \n",
    "\"\"\"\n",
    "'''\n",
    "#sentence = \"George Washington went to Washington\"\n",
    "\n",
    "tokenized_sentence = config.TOKENIZER.encode(sentence)\n",
    "input_ids = torch.tensor([tokenized_sentence]).cuda()\n",
    "tokens = config.TOKENIZER.convert_ids_to_tokens(input_ids.to('cpu').numpy()[0])\n",
    "\n",
    "\n",
    "sentence = sentence.split()\n",
    "print(sentence)\n",
    "print(tokens)\n",
    "print(tokenized_sentence)\n",
    "\n",
    "test_dataset = EntityDataset(\n",
    "    texts=[sentence], \n",
    "    pos=[[0] * len(sentence)], \n",
    "    tags=[[0] * len(sentence)]\n",
    ")\n",
    "\n",
    "device = torch.device(\"cuda\")\n",
    "model = EntityModel(num_tag=num_tag, num_pos=num_pos)\n",
    "model.load_state_dict(torch.load(config.MODEL_PATH))\n",
    "model.to(device)\n",
    "\n",
    "with torch.no_grad():\n",
    "    data = test_dataset[0]\n",
    "    for k, v in data.items():\n",
    "        data[k] = v.to(device).unsqueeze(0)\n",
    "    tag, pos, _ = model(**data)\n",
    "\n",
    "    print(\n",
    "        enc_tag.inverse_transform(\n",
    "            tag.argmax(2).cpu().numpy().reshape(-1)\n",
    "        )[:len(tokenized_sentence)]\n",
    "    )\n",
    "    \n",
    "    '''\n",
    "    print(\n",
    "        enc_pos.inverse_transform(\n",
    "            pos.argmax(2).cpu().numpy().reshape(-1)\n",
    "        )[:len(tokenized_sentence)]\n",
    "    )\n",
    "    '''"
   ]
  },
  {
   "cell_type": "code",
   "execution_count": 24,
   "metadata": {
    "execution": {
     "iopub.execute_input": "2023-07-20T14:12:30.075458Z",
     "iopub.status.busy": "2023-07-20T14:12:30.074519Z",
     "iopub.status.idle": "2023-07-20T14:12:30.323138Z",
     "shell.execute_reply": "2023-07-20T14:12:30.323678Z"
    },
    "papermill": {
     "duration": 0.294007,
     "end_time": "2023-07-20T14:12:30.323831",
     "exception": false,
     "start_time": "2023-07-20T14:12:30.029824",
     "status": "completed"
    },
    "tags": []
   },
   "outputs": [
    {
     "data": {
      "text/plain": [
       "<All keys matched successfully>"
      ]
     },
     "execution_count": 24,
     "metadata": {},
     "output_type": "execute_result"
    }
   ],
   "source": [
    "model.load_state_dict(torch.load(config.MODEL_PATH))"
   ]
  },
  {
   "cell_type": "code",
   "execution_count": 25,
   "metadata": {
    "execution": {
     "iopub.execute_input": "2023-07-20T14:12:30.416928Z",
     "iopub.status.busy": "2023-07-20T14:12:30.416033Z",
     "iopub.status.idle": "2023-07-20T14:12:30.418465Z",
     "shell.execute_reply": "2023-07-20T14:12:30.418909Z"
    },
    "papermill": {
     "duration": 0.054173,
     "end_time": "2023-07-20T14:12:30.419030",
     "exception": false,
     "start_time": "2023-07-20T14:12:30.364857",
     "status": "completed"
    },
    "tags": []
   },
   "outputs": [],
   "source": [
    "def ner_output(sentence):\n",
    "\n",
    "    #sentence = \"George Washington went to Washington\"\n",
    "\n",
    "    tokenized_sentence = config.TOKENIZER.encode(sentence)\n",
    "    input_ids = torch.tensor([tokenized_sentence]).cuda()\n",
    "    tokens = config.TOKENIZER.convert_ids_to_tokens(input_ids.to('cpu').numpy()[0])\n",
    "\n",
    "\n",
    "    sentence = sentence.split()\n",
    "    #print(sentence)\n",
    "    #print(tokens)\n",
    "    #print(tokenized_sentence[1:-1])\n",
    "\n",
    "    test_dataset = EntityDataset(\n",
    "        texts=[sentence], \n",
    "        pos=[[0] * len(sentence)], \n",
    "        tags=[[0] * len(sentence)]\n",
    "    )\n",
    "\n",
    "    #device = torch.device(\"cuda\")\n",
    "    #model = EntityModel(num_tag=num_tag, num_pos=num_pos)\n",
    "    #model.load_state_dict(torch.load(config.MODEL_PATH))\n",
    "    #model.to(device)\n",
    "\n",
    "    with torch.no_grad():\n",
    "        data = test_dataset[0]\n",
    "        for k, v in data.items():\n",
    "            data[k] = v.to(device).unsqueeze(0)\n",
    "        tag, pos, _ = model(**data)\n",
    "        \n",
    "        '''\n",
    "        print(\n",
    "            enc_tag.inverse_transform(\n",
    "                tag.argmax(2).cpu().numpy().reshape(-1)\n",
    "            )[:len(tokenized_sentence)]\n",
    "        )\n",
    "      '''\n",
    "    return tokens,enc_tag.inverse_transform( tag.argmax(2).cpu().numpy().reshape(-1))[:len(tokenized_sentence)]"
   ]
  },
  {
   "cell_type": "markdown",
   "metadata": {
    "papermill": {
     "duration": 0.04077,
     "end_time": "2023-07-20T14:12:30.500504",
     "exception": false,
     "start_time": "2023-07-20T14:12:30.459734",
     "status": "completed"
    },
    "tags": []
   },
   "source": []
  },
  {
   "cell_type": "code",
   "execution_count": 26,
   "metadata": {
    "execution": {
     "iopub.execute_input": "2023-07-20T14:12:30.589652Z",
     "iopub.status.busy": "2023-07-20T14:12:30.588413Z",
     "iopub.status.idle": "2023-07-20T14:12:30.678568Z",
     "shell.execute_reply": "2023-07-20T14:12:30.679069Z"
    },
    "papermill": {
     "duration": 0.137167,
     "end_time": "2023-07-20T14:12:30.679221",
     "exception": false,
     "start_time": "2023-07-20T14:12:30.542054",
     "status": "completed"
    },
    "tags": []
   },
   "outputs": [
    {
     "name": "stdout",
     "output_type": "stream",
     "text": [
      "  Charter_Num                                  Name\n",
      "0  UB934057_0                         David Elliott\n",
      "1  UB934058_1                   J and J Enterprises\n",
      "2  UB934059_2  Subsidiary of Ascend One Corporation\n",
      "3  UB934060_3  Subsidiary of Ascend One Corporation\n",
      "4  UB934061_4  Subsidiary of Ascend One Corporation\n"
     ]
    }
   ],
   "source": [
    "df = pd.read_csv(ner_data_path, encoding=\"latin-1\")\n",
    "df = df = df[['DBA_ID_f','OWNER_NAME']]\n",
    "#df = df[:10000]\n",
    "df.rename(columns = {'DBA_ID_f':'Charter_Num','OWNER_NAME':'Name'},inplace= True)\n",
    "df['Name'].fillna('unknown',inplace= True)\n",
    "print(df.head(5))\n",
    "#df = pd.read_csv(config.TRAINING_FILE, encoding=\"latin-1\",nrows = 1000)\n",
    "#df['sent_len'] = df['Bus_Name'].str.split().str.len()"
   ]
  },
  {
   "cell_type": "code",
   "execution_count": 27,
   "metadata": {
    "execution": {
     "iopub.execute_input": "2023-07-20T14:12:30.775652Z",
     "iopub.status.busy": "2023-07-20T14:12:30.774863Z",
     "iopub.status.idle": "2023-07-20T14:12:30.780650Z",
     "shell.execute_reply": "2023-07-20T14:12:30.780136Z"
    },
    "papermill": {
     "duration": 0.05926,
     "end_time": "2023-07-20T14:12:30.780757",
     "exception": false,
     "start_time": "2023-07-20T14:12:30.721497",
     "status": "completed"
    },
    "tags": []
   },
   "outputs": [
    {
     "data": {
      "text/html": [
       "<div>\n",
       "<style scoped>\n",
       "    .dataframe tbody tr th:only-of-type {\n",
       "        vertical-align: middle;\n",
       "    }\n",
       "\n",
       "    .dataframe tbody tr th {\n",
       "        vertical-align: top;\n",
       "    }\n",
       "\n",
       "    .dataframe thead th {\n",
       "        text-align: right;\n",
       "    }\n",
       "</style>\n",
       "<table border=\"1\" class=\"dataframe\">\n",
       "  <thead>\n",
       "    <tr style=\"text-align: right;\">\n",
       "      <th></th>\n",
       "      <th>Charter_Num</th>\n",
       "      <th>Name</th>\n",
       "    </tr>\n",
       "  </thead>\n",
       "  <tbody>\n",
       "    <tr>\n",
       "      <th>0</th>\n",
       "      <td>UB934057_0</td>\n",
       "      <td>David Elliott</td>\n",
       "    </tr>\n",
       "    <tr>\n",
       "      <th>1</th>\n",
       "      <td>UB934058_1</td>\n",
       "      <td>J and J Enterprises</td>\n",
       "    </tr>\n",
       "    <tr>\n",
       "      <th>2</th>\n",
       "      <td>UB934059_2</td>\n",
       "      <td>Subsidiary of Ascend One Corporation</td>\n",
       "    </tr>\n",
       "    <tr>\n",
       "      <th>3</th>\n",
       "      <td>UB934060_3</td>\n",
       "      <td>Subsidiary of Ascend One Corporation</td>\n",
       "    </tr>\n",
       "    <tr>\n",
       "      <th>4</th>\n",
       "      <td>UB934061_4</td>\n",
       "      <td>Subsidiary of Ascend One Corporation</td>\n",
       "    </tr>\n",
       "  </tbody>\n",
       "</table>\n",
       "</div>"
      ],
      "text/plain": [
       "  Charter_Num                                  Name\n",
       "0  UB934057_0                         David Elliott\n",
       "1  UB934058_1                   J and J Enterprises\n",
       "2  UB934059_2  Subsidiary of Ascend One Corporation\n",
       "3  UB934060_3  Subsidiary of Ascend One Corporation\n",
       "4  UB934061_4  Subsidiary of Ascend One Corporation"
      ]
     },
     "execution_count": 27,
     "metadata": {},
     "output_type": "execute_result"
    }
   ],
   "source": [
    "df.head(5)"
   ]
  },
  {
   "cell_type": "code",
   "execution_count": 28,
   "metadata": {
    "execution": {
     "iopub.execute_input": "2023-07-20T14:12:30.872834Z",
     "iopub.status.busy": "2023-07-20T14:12:30.870611Z",
     "iopub.status.idle": "2023-07-20T14:12:30.913144Z",
     "shell.execute_reply": "2023-07-20T14:12:30.913656Z"
    },
    "papermill": {
     "duration": 0.090751,
     "end_time": "2023-07-20T14:12:30.913792",
     "exception": false,
     "start_time": "2023-07-20T14:12:30.823041",
     "status": "completed"
    },
    "tags": []
   },
   "outputs": [
    {
     "data": {
      "text/html": [
       "<div>\n",
       "<style scoped>\n",
       "    .dataframe tbody tr th:only-of-type {\n",
       "        vertical-align: middle;\n",
       "    }\n",
       "\n",
       "    .dataframe tbody tr th {\n",
       "        vertical-align: top;\n",
       "    }\n",
       "\n",
       "    .dataframe thead th {\n",
       "        text-align: right;\n",
       "    }\n",
       "</style>\n",
       "<table border=\"1\" class=\"dataframe\">\n",
       "  <thead>\n",
       "    <tr style=\"text-align: right;\">\n",
       "      <th></th>\n",
       "      <th>Name_Split</th>\n",
       "      <th>Charter_Num_list</th>\n",
       "      <th>Charter_Num</th>\n",
       "    </tr>\n",
       "  </thead>\n",
       "  <tbody>\n",
       "    <tr>\n",
       "      <th>0</th>\n",
       "      <td>[THE, RUDE, BAND, LLC]</td>\n",
       "      <td>[UB135909_48408, UB135909_48408, UB135909_4840...</td>\n",
       "      <td>UB135909_48408</td>\n",
       "    </tr>\n",
       "    <tr>\n",
       "      <th>1</th>\n",
       "      <td>[Hello, Mortgage,, Inc.]</td>\n",
       "      <td>[UB135912_48409, UB135912_48409, UB135912_48409]</td>\n",
       "      <td>UB135912_48409</td>\n",
       "    </tr>\n",
       "    <tr>\n",
       "      <th>2</th>\n",
       "      <td>[CONAGRA, FOODS, SALES,, LLC]</td>\n",
       "      <td>[UB135923_48410, UB135923_48410, UB135923_4841...</td>\n",
       "      <td>UB135923_48410</td>\n",
       "    </tr>\n",
       "    <tr>\n",
       "      <th>3</th>\n",
       "      <td>[Megan, Brennan]</td>\n",
       "      <td>[UB135924_48411, UB135924_48411]</td>\n",
       "      <td>UB135924_48411</td>\n",
       "    </tr>\n",
       "    <tr>\n",
       "      <th>4</th>\n",
       "      <td>[JBS, United,, Inc.]</td>\n",
       "      <td>[UB135928_48412, UB135928_48412, UB135928_48412]</td>\n",
       "      <td>UB135928_48412</td>\n",
       "    </tr>\n",
       "    <tr>\n",
       "      <th>...</th>\n",
       "      <td>...</td>\n",
       "      <td>...</td>\n",
       "      <td>...</td>\n",
       "    </tr>\n",
       "    <tr>\n",
       "      <th>74434</th>\n",
       "      <td>[Brian, and, Candace, McKay]</td>\n",
       "      <td>[UB973241_48403, UB973241_48403, UB973241_4840...</td>\n",
       "      <td>UB973241_48403</td>\n",
       "    </tr>\n",
       "    <tr>\n",
       "      <th>74435</th>\n",
       "      <td>[Sioux, Falls, Cryo,, LLC]</td>\n",
       "      <td>[UB973242_48404, UB973242_48404, UB973242_4840...</td>\n",
       "      <td>UB973242_48404</td>\n",
       "    </tr>\n",
       "    <tr>\n",
       "      <th>74436</th>\n",
       "      <td>[Singh, BIr, Tamang]</td>\n",
       "      <td>[UB973243_48405, UB973243_48405, UB973243_48405]</td>\n",
       "      <td>UB973243_48405</td>\n",
       "    </tr>\n",
       "    <tr>\n",
       "      <th>74437</th>\n",
       "      <td>[Man, Rai]</td>\n",
       "      <td>[UB973243_48406, UB973243_48406]</td>\n",
       "      <td>UB973243_48406</td>\n",
       "    </tr>\n",
       "    <tr>\n",
       "      <th>74438</th>\n",
       "      <td>[Craig, or, Della, Tschetter]</td>\n",
       "      <td>[UB973244_48407, UB973244_48407, UB973244_4840...</td>\n",
       "      <td>UB973244_48407</td>\n",
       "    </tr>\n",
       "  </tbody>\n",
       "</table>\n",
       "<p>74439 rows × 3 columns</p>\n",
       "</div>"
      ],
      "text/plain": [
       "                          Name_Split  \\\n",
       "0             [THE, RUDE, BAND, LLC]   \n",
       "1           [Hello, Mortgage,, Inc.]   \n",
       "2      [CONAGRA, FOODS, SALES,, LLC]   \n",
       "3                   [Megan, Brennan]   \n",
       "4               [JBS, United,, Inc.]   \n",
       "...                              ...   \n",
       "74434   [Brian, and, Candace, McKay]   \n",
       "74435     [Sioux, Falls, Cryo,, LLC]   \n",
       "74436           [Singh, BIr, Tamang]   \n",
       "74437                     [Man, Rai]   \n",
       "74438  [Craig, or, Della, Tschetter]   \n",
       "\n",
       "                                        Charter_Num_list     Charter_Num  \n",
       "0      [UB135909_48408, UB135909_48408, UB135909_4840...  UB135909_48408  \n",
       "1       [UB135912_48409, UB135912_48409, UB135912_48409]  UB135912_48409  \n",
       "2      [UB135923_48410, UB135923_48410, UB135923_4841...  UB135923_48410  \n",
       "3                       [UB135924_48411, UB135924_48411]  UB135924_48411  \n",
       "4       [UB135928_48412, UB135928_48412, UB135928_48412]  UB135928_48412  \n",
       "...                                                  ...             ...  \n",
       "74434  [UB973241_48403, UB973241_48403, UB973241_4840...  UB973241_48403  \n",
       "74435  [UB973242_48404, UB973242_48404, UB973242_4840...  UB973242_48404  \n",
       "74436   [UB973243_48405, UB973243_48405, UB973243_48405]  UB973243_48405  \n",
       "74437                   [UB973243_48406, UB973243_48406]  UB973243_48406  \n",
       "74438  [UB973244_48407, UB973244_48407, UB973244_4840...  UB973244_48407  \n",
       "\n",
       "[74439 rows x 3 columns]"
      ]
     },
     "execution_count": 28,
     "metadata": {},
     "output_type": "execute_result"
    }
   ],
   "source": [
    "Entity_df = pd.DataFrame(test_pred_sentences)\n",
    "Entity_df.columns = ['Name_Split']\n",
    "Entity_df['Charter_Num_list'] = Charter_Num_list\n",
    "Entity_df['Charter_Num']      = Entity_df['Charter_Num_list'].apply(lambda row: row[0] )\n",
    "Entity_df #= pd.DataFrame()"
   ]
  },
  {
   "cell_type": "code",
   "execution_count": 29,
   "metadata": {
    "execution": {
     "iopub.execute_input": "2023-07-20T14:12:31.005228Z",
     "iopub.status.busy": "2023-07-20T14:12:31.004615Z",
     "iopub.status.idle": "2023-07-20T14:12:31.008831Z",
     "shell.execute_reply": "2023-07-20T14:12:31.008157Z"
    },
    "papermill": {
     "duration": 0.051649,
     "end_time": "2023-07-20T14:12:31.008939",
     "exception": false,
     "start_time": "2023-07-20T14:12:30.957290",
     "status": "completed"
    },
    "tags": []
   },
   "outputs": [],
   "source": [
    "test_dataset = EntityDataset(\n",
    "    texts=test_pred_sentences, pos=test_pos, tags=test_tag\n",
    ")\n",
    "\n",
    "test_data_loader = torch.utils.data.DataLoader(\n",
    "    test_dataset, batch_size=128, num_workers=1\n",
    ")"
   ]
  },
  {
   "cell_type": "code",
   "execution_count": 30,
   "metadata": {
    "execution": {
     "iopub.execute_input": "2023-07-20T14:12:31.104501Z",
     "iopub.status.busy": "2023-07-20T14:12:31.103412Z",
     "iopub.status.idle": "2023-07-20T14:16:44.600704Z",
     "shell.execute_reply": "2023-07-20T14:16:44.599844Z"
    },
    "papermill": {
     "duration": 253.548349,
     "end_time": "2023-07-20T14:16:44.600831",
     "exception": false,
     "start_time": "2023-07-20T14:12:31.052482",
     "status": "completed"
    },
    "tags": []
   },
   "outputs": [
    {
     "name": "stderr",
     "output_type": "stream",
     "text": [
      "100%|██████████| 582/582 [04:13<00:00,  2.30it/s]\n"
     ]
    }
   ],
   "source": [
    "with torch.no_grad():\n",
    "    tag_list= []\n",
    "    for data in tqdm(test_data_loader, total=len(test_data_loader)):\n",
    "            \n",
    "            for k, v in data.items():\n",
    "                data[k] = v.to(device)\n",
    "            tag, pos, _ = model(**data)\n",
    "            tag_list.append(tag)\n",
    "            \n",
    "tag_all = torch.cat(tag_list)"
   ]
  },
  {
   "cell_type": "code",
   "execution_count": 31,
   "metadata": {
    "execution": {
     "iopub.execute_input": "2023-07-20T14:16:45.096726Z",
     "iopub.status.busy": "2023-07-20T14:16:45.095562Z",
     "iopub.status.idle": "2023-07-20T14:16:45.100383Z",
     "shell.execute_reply": "2023-07-20T14:16:45.099890Z"
    },
    "papermill": {
     "duration": 0.255311,
     "end_time": "2023-07-20T14:16:45.100488",
     "exception": false,
     "start_time": "2023-07-20T14:16:44.845177",
     "status": "completed"
    },
    "tags": []
   },
   "outputs": [
    {
     "data": {
      "text/html": [
       "<div>\n",
       "<style scoped>\n",
       "    .dataframe tbody tr th:only-of-type {\n",
       "        vertical-align: middle;\n",
       "    }\n",
       "\n",
       "    .dataframe tbody tr th {\n",
       "        vertical-align: top;\n",
       "    }\n",
       "\n",
       "    .dataframe thead th {\n",
       "        text-align: right;\n",
       "    }\n",
       "</style>\n",
       "<table border=\"1\" class=\"dataframe\">\n",
       "  <thead>\n",
       "    <tr style=\"text-align: right;\">\n",
       "      <th></th>\n",
       "      <th>Charter_Num</th>\n",
       "      <th>Name</th>\n",
       "    </tr>\n",
       "  </thead>\n",
       "  <tbody>\n",
       "    <tr>\n",
       "      <th>0</th>\n",
       "      <td>UB934057_0</td>\n",
       "      <td>David Elliott</td>\n",
       "    </tr>\n",
       "    <tr>\n",
       "      <th>1</th>\n",
       "      <td>UB934058_1</td>\n",
       "      <td>J and J Enterprises</td>\n",
       "    </tr>\n",
       "    <tr>\n",
       "      <th>2</th>\n",
       "      <td>UB934059_2</td>\n",
       "      <td>Subsidiary of Ascend One Corporation</td>\n",
       "    </tr>\n",
       "    <tr>\n",
       "      <th>3</th>\n",
       "      <td>UB934060_3</td>\n",
       "      <td>Subsidiary of Ascend One Corporation</td>\n",
       "    </tr>\n",
       "    <tr>\n",
       "      <th>4</th>\n",
       "      <td>UB934061_4</td>\n",
       "      <td>Subsidiary of Ascend One Corporation</td>\n",
       "    </tr>\n",
       "  </tbody>\n",
       "</table>\n",
       "</div>"
      ],
      "text/plain": [
       "  Charter_Num                                  Name\n",
       "0  UB934057_0                         David Elliott\n",
       "1  UB934058_1                   J and J Enterprises\n",
       "2  UB934059_2  Subsidiary of Ascend One Corporation\n",
       "3  UB934060_3  Subsidiary of Ascend One Corporation\n",
       "4  UB934061_4  Subsidiary of Ascend One Corporation"
      ]
     },
     "execution_count": 31,
     "metadata": {},
     "output_type": "execute_result"
    }
   ],
   "source": [
    "df.head(5)"
   ]
  },
  {
   "cell_type": "code",
   "execution_count": 32,
   "metadata": {
    "execution": {
     "iopub.execute_input": "2023-07-20T14:16:45.583258Z",
     "iopub.status.busy": "2023-07-20T14:16:45.582242Z",
     "iopub.status.idle": "2023-07-20T14:17:00.851058Z",
     "shell.execute_reply": "2023-07-20T14:17:00.850335Z"
    },
    "papermill": {
     "duration": 15.512672,
     "end_time": "2023-07-20T14:17:00.851168",
     "exception": false,
     "start_time": "2023-07-20T14:16:45.338496",
     "status": "completed"
    },
    "tags": []
   },
   "outputs": [],
   "source": [
    "df['tokenized_sent'] = df['Name'].apply(lambda row:  config.TOKENIZER.encode(row))"
   ]
  },
  {
   "cell_type": "code",
   "execution_count": 33,
   "metadata": {
    "execution": {
     "iopub.execute_input": "2023-07-20T14:17:01.344916Z",
     "iopub.status.busy": "2023-07-20T14:17:01.343908Z",
     "iopub.status.idle": "2023-07-20T14:17:22.848719Z",
     "shell.execute_reply": "2023-07-20T14:17:22.848012Z"
    },
    "papermill": {
     "duration": 21.753788,
     "end_time": "2023-07-20T14:17:22.848834",
     "exception": false,
     "start_time": "2023-07-20T14:17:01.095046",
     "status": "completed"
    },
    "tags": []
   },
   "outputs": [],
   "source": [
    "count = 0\n",
    "enc_tag_list= []\n",
    "for i in tag_all:\n",
    "    \n",
    "    enc_tag_list.append(enc_tag.inverse_transform(\n",
    "            i[None,:,:].argmax(2).cpu().numpy().reshape(-1)[:len(df.loc[:,'tokenized_sent'][count])]\n",
    "        ))\n",
    "    count = count+1"
   ]
  },
  {
   "cell_type": "code",
   "execution_count": 34,
   "metadata": {
    "execution": {
     "iopub.execute_input": "2023-07-20T14:17:23.337635Z",
     "iopub.status.busy": "2023-07-20T14:17:23.336773Z",
     "iopub.status.idle": "2023-07-20T14:17:23.344675Z",
     "shell.execute_reply": "2023-07-20T14:17:23.345199Z"
    },
    "papermill": {
     "duration": 0.254228,
     "end_time": "2023-07-20T14:17:23.345324",
     "exception": false,
     "start_time": "2023-07-20T14:17:23.091096",
     "status": "completed"
    },
    "tags": []
   },
   "outputs": [],
   "source": [
    "Entity_df['enc_tag'] = enc_tag_list"
   ]
  },
  {
   "cell_type": "code",
   "execution_count": 35,
   "metadata": {
    "execution": {
     "iopub.execute_input": "2023-07-20T14:17:23.877280Z",
     "iopub.status.busy": "2023-07-20T14:17:23.876059Z",
     "iopub.status.idle": "2023-07-20T14:17:23.978071Z",
     "shell.execute_reply": "2023-07-20T14:17:23.978588Z"
    },
    "papermill": {
     "duration": 0.351177,
     "end_time": "2023-07-20T14:17:23.978736",
     "exception": false,
     "start_time": "2023-07-20T14:17:23.627559",
     "status": "completed"
    },
    "tags": []
   },
   "outputs": [
    {
     "data": {
      "text/html": [
       "<div>\n",
       "<style scoped>\n",
       "    .dataframe tbody tr th:only-of-type {\n",
       "        vertical-align: middle;\n",
       "    }\n",
       "\n",
       "    .dataframe tbody tr th {\n",
       "        vertical-align: top;\n",
       "    }\n",
       "\n",
       "    .dataframe thead th {\n",
       "        text-align: right;\n",
       "    }\n",
       "</style>\n",
       "<table border=\"1\" class=\"dataframe\">\n",
       "  <thead>\n",
       "    <tr style=\"text-align: right;\">\n",
       "      <th></th>\n",
       "      <th>Name_Split</th>\n",
       "      <th>Charter_Num_list</th>\n",
       "      <th>Charter_Num</th>\n",
       "      <th>enc_tag</th>\n",
       "      <th>Name</th>\n",
       "      <th>tokenized_sent</th>\n",
       "    </tr>\n",
       "  </thead>\n",
       "  <tbody>\n",
       "    <tr>\n",
       "      <th>0</th>\n",
       "      <td>[THE, RUDE, BAND, LLC]</td>\n",
       "      <td>[UB135909_48408, UB135909_48408, UB135909_4840...</td>\n",
       "      <td>UB135909_48408</td>\n",
       "      <td>[B-art, O, O, I-org]</td>\n",
       "      <td>THE RUDE BAND LLC</td>\n",
       "      <td>[101, 1996, 12726, 2316, 11775, 102]</td>\n",
       "    </tr>\n",
       "    <tr>\n",
       "      <th>1</th>\n",
       "      <td>[Hello, Mortgage,, Inc.]</td>\n",
       "      <td>[UB135912_48409, UB135912_48409, UB135912_48409]</td>\n",
       "      <td>UB135912_48409</td>\n",
       "      <td>[B-art, O, O, O, B-org, I-org]</td>\n",
       "      <td>Hello Mortgage, Inc.</td>\n",
       "      <td>[101, 7592, 14344, 1010, 4297, 1012, 102]</td>\n",
       "    </tr>\n",
       "    <tr>\n",
       "      <th>2</th>\n",
       "      <td>[CONAGRA, FOODS, SALES,, LLC]</td>\n",
       "      <td>[UB135923_48410, UB135923_48410, UB135923_4841...</td>\n",
       "      <td>UB135923_48410</td>\n",
       "      <td>[B-art, B-org, B-org, B-org, I-org, I-org, I-o...</td>\n",
       "      <td>CONAGRA FOODS SALES, LLC</td>\n",
       "      <td>[101, 9530, 8490, 2527, 9440, 4341, 1010, 1177...</td>\n",
       "    </tr>\n",
       "    <tr>\n",
       "      <th>3</th>\n",
       "      <td>[Megan, Brennan]</td>\n",
       "      <td>[UB135924_48411, UB135924_48411]</td>\n",
       "      <td>UB135924_48411</td>\n",
       "      <td>[B-art, B-per, I-per, B-art, B-per, O, B-per, O]</td>\n",
       "      <td>Megan Brennan</td>\n",
       "      <td>[101, 12756, 13962, 102]</td>\n",
       "    </tr>\n",
       "    <tr>\n",
       "      <th>4</th>\n",
       "      <td>[JBS, United,, Inc.]</td>\n",
       "      <td>[UB135928_48412, UB135928_48412, UB135928_48412]</td>\n",
       "      <td>UB135928_48412</td>\n",
       "      <td>[B-art, B-org, B-org, I-org, I-org, I-org, I-o...</td>\n",
       "      <td>JBS United, Inc.</td>\n",
       "      <td>[101, 1046, 5910, 2142, 1010, 4297, 1012, 102]</td>\n",
       "    </tr>\n",
       "    <tr>\n",
       "      <th>...</th>\n",
       "      <td>...</td>\n",
       "      <td>...</td>\n",
       "      <td>...</td>\n",
       "      <td>...</td>\n",
       "      <td>...</td>\n",
       "      <td>...</td>\n",
       "    </tr>\n",
       "    <tr>\n",
       "      <th>74434</th>\n",
       "      <td>[Brian, and, Candace, McKay]</td>\n",
       "      <td>[UB973241_48403, UB973241_48403, UB973241_4840...</td>\n",
       "      <td>UB973241_48403</td>\n",
       "      <td>[B-art, B-per, O, B-per, I-per, B-art, B-per]</td>\n",
       "      <td>Brian and Candace McKay</td>\n",
       "      <td>[101, 4422, 1998, 22905, 16225, 102]</td>\n",
       "    </tr>\n",
       "    <tr>\n",
       "      <th>74435</th>\n",
       "      <td>[Sioux, Falls, Cryo,, LLC]</td>\n",
       "      <td>[UB973242_48404, UB973242_48404, UB973242_4840...</td>\n",
       "      <td>UB973242_48404</td>\n",
       "      <td>[B-art, B-geo, I-geo, I-geo, I-geo, O, O, B-art]</td>\n",
       "      <td>Sioux Falls Cryo, LLC</td>\n",
       "      <td>[101, 16615, 4212, 5390, 2080, 1010, 11775, 102]</td>\n",
       "    </tr>\n",
       "    <tr>\n",
       "      <th>74436</th>\n",
       "      <td>[Singh, BIr, Tamang]</td>\n",
       "      <td>[UB973243_48405, UB973243_48405, UB973243_48405]</td>\n",
       "      <td>UB973243_48405</td>\n",
       "      <td>[B-art, B-per, I-org, I-org, I-org, I-org, B-art]</td>\n",
       "      <td>Singh BIr Tamang</td>\n",
       "      <td>[101, 5960, 12170, 2099, 17214, 5654, 102]</td>\n",
       "    </tr>\n",
       "    <tr>\n",
       "      <th>74437</th>\n",
       "      <td>[Man, Rai]</td>\n",
       "      <td>[UB973243_48406, UB973243_48406]</td>\n",
       "      <td>UB973243_48406</td>\n",
       "      <td>[B-art, B-per, I-per, B-art, B-per, O]</td>\n",
       "      <td>Man Rai</td>\n",
       "      <td>[101, 2158, 15547, 102]</td>\n",
       "    </tr>\n",
       "    <tr>\n",
       "      <th>74438</th>\n",
       "      <td>[Craig, or, Della, Tschetter]</td>\n",
       "      <td>[UB973244_48407, UB973244_48407, UB973244_4840...</td>\n",
       "      <td>UB973244_48407</td>\n",
       "      <td>[B-art, B-per, O, B-per, I-per, I-per, I-per, ...</td>\n",
       "      <td>Craig or Della Tschetter</td>\n",
       "      <td>[101, 7010, 2030, 8611, 24529, 20318, 3334, 102]</td>\n",
       "    </tr>\n",
       "  </tbody>\n",
       "</table>\n",
       "<p>74439 rows × 6 columns</p>\n",
       "</div>"
      ],
      "text/plain": [
       "                          Name_Split  \\\n",
       "0             [THE, RUDE, BAND, LLC]   \n",
       "1           [Hello, Mortgage,, Inc.]   \n",
       "2      [CONAGRA, FOODS, SALES,, LLC]   \n",
       "3                   [Megan, Brennan]   \n",
       "4               [JBS, United,, Inc.]   \n",
       "...                              ...   \n",
       "74434   [Brian, and, Candace, McKay]   \n",
       "74435     [Sioux, Falls, Cryo,, LLC]   \n",
       "74436           [Singh, BIr, Tamang]   \n",
       "74437                     [Man, Rai]   \n",
       "74438  [Craig, or, Della, Tschetter]   \n",
       "\n",
       "                                        Charter_Num_list     Charter_Num  \\\n",
       "0      [UB135909_48408, UB135909_48408, UB135909_4840...  UB135909_48408   \n",
       "1       [UB135912_48409, UB135912_48409, UB135912_48409]  UB135912_48409   \n",
       "2      [UB135923_48410, UB135923_48410, UB135923_4841...  UB135923_48410   \n",
       "3                       [UB135924_48411, UB135924_48411]  UB135924_48411   \n",
       "4       [UB135928_48412, UB135928_48412, UB135928_48412]  UB135928_48412   \n",
       "...                                                  ...             ...   \n",
       "74434  [UB973241_48403, UB973241_48403, UB973241_4840...  UB973241_48403   \n",
       "74435  [UB973242_48404, UB973242_48404, UB973242_4840...  UB973242_48404   \n",
       "74436   [UB973243_48405, UB973243_48405, UB973243_48405]  UB973243_48405   \n",
       "74437                   [UB973243_48406, UB973243_48406]  UB973243_48406   \n",
       "74438  [UB973244_48407, UB973244_48407, UB973244_4840...  UB973244_48407   \n",
       "\n",
       "                                                 enc_tag  \\\n",
       "0                                   [B-art, O, O, I-org]   \n",
       "1                         [B-art, O, O, O, B-org, I-org]   \n",
       "2      [B-art, B-org, B-org, B-org, I-org, I-org, I-o...   \n",
       "3       [B-art, B-per, I-per, B-art, B-per, O, B-per, O]   \n",
       "4      [B-art, B-org, B-org, I-org, I-org, I-org, I-o...   \n",
       "...                                                  ...   \n",
       "74434      [B-art, B-per, O, B-per, I-per, B-art, B-per]   \n",
       "74435   [B-art, B-geo, I-geo, I-geo, I-geo, O, O, B-art]   \n",
       "74436  [B-art, B-per, I-org, I-org, I-org, I-org, B-art]   \n",
       "74437             [B-art, B-per, I-per, B-art, B-per, O]   \n",
       "74438  [B-art, B-per, O, B-per, I-per, I-per, I-per, ...   \n",
       "\n",
       "                           Name  \\\n",
       "0             THE RUDE BAND LLC   \n",
       "1          Hello Mortgage, Inc.   \n",
       "2      CONAGRA FOODS SALES, LLC   \n",
       "3                 Megan Brennan   \n",
       "4              JBS United, Inc.   \n",
       "...                         ...   \n",
       "74434   Brian and Candace McKay   \n",
       "74435     Sioux Falls Cryo, LLC   \n",
       "74436          Singh BIr Tamang   \n",
       "74437                   Man Rai   \n",
       "74438  Craig or Della Tschetter   \n",
       "\n",
       "                                          tokenized_sent  \n",
       "0                   [101, 1996, 12726, 2316, 11775, 102]  \n",
       "1              [101, 7592, 14344, 1010, 4297, 1012, 102]  \n",
       "2      [101, 9530, 8490, 2527, 9440, 4341, 1010, 1177...  \n",
       "3                               [101, 12756, 13962, 102]  \n",
       "4         [101, 1046, 5910, 2142, 1010, 4297, 1012, 102]  \n",
       "...                                                  ...  \n",
       "74434               [101, 4422, 1998, 22905, 16225, 102]  \n",
       "74435   [101, 16615, 4212, 5390, 2080, 1010, 11775, 102]  \n",
       "74436         [101, 5960, 12170, 2099, 17214, 5654, 102]  \n",
       "74437                            [101, 2158, 15547, 102]  \n",
       "74438   [101, 7010, 2030, 8611, 24529, 20318, 3334, 102]  \n",
       "\n",
       "[74439 rows x 6 columns]"
      ]
     },
     "execution_count": 35,
     "metadata": {},
     "output_type": "execute_result"
    }
   ],
   "source": [
    "Entity_df = pd.merge(Entity_df,df,how = 'inner')\n",
    "Entity_df"
   ]
  },
  {
   "cell_type": "code",
   "execution_count": 36,
   "metadata": {
    "execution": {
     "iopub.execute_input": "2023-07-20T14:17:24.521000Z",
     "iopub.status.busy": "2023-07-20T14:17:24.520112Z",
     "iopub.status.idle": "2023-07-20T14:17:28.311328Z",
     "shell.execute_reply": "2023-07-20T14:17:28.310124Z"
    },
    "papermill": {
     "duration": 4.086277,
     "end_time": "2023-07-20T14:17:28.311535",
     "exception": false,
     "start_time": "2023-07-20T14:17:24.225258",
     "status": "completed"
    },
    "tags": []
   },
   "outputs": [],
   "source": [
    "Entity_df.to_csv('my3_Entity_BERT_SD_orig.csv',index= False)"
   ]
  },
  {
   "cell_type": "code",
   "execution_count": 37,
   "metadata": {
    "execution": {
     "iopub.execute_input": "2023-07-20T14:17:28.799206Z",
     "iopub.status.busy": "2023-07-20T14:17:28.798443Z",
     "iopub.status.idle": "2023-07-20T14:17:28.801471Z",
     "shell.execute_reply": "2023-07-20T14:17:28.801955Z"
    },
    "papermill": {
     "duration": 0.25023,
     "end_time": "2023-07-20T14:17:28.802079",
     "exception": false,
     "start_time": "2023-07-20T14:17:28.551849",
     "status": "completed"
    },
    "tags": []
   },
   "outputs": [
    {
     "name": "stdout",
     "output_type": "stream",
     "text": [
      "2023-07-20 14:17:28.796258\n"
     ]
    }
   ],
   "source": [
    "import datetime\n",
    "print(datetime.datetime.now())"
   ]
  },
  {
   "cell_type": "code",
   "execution_count": null,
   "metadata": {
    "papermill": {
     "duration": 0.245421,
     "end_time": "2023-07-20T14:17:29.290285",
     "exception": false,
     "start_time": "2023-07-20T14:17:29.044864",
     "status": "completed"
    },
    "tags": []
   },
   "outputs": [],
   "source": []
  },
  {
   "cell_type": "code",
   "execution_count": null,
   "metadata": {
    "papermill": {
     "duration": 0.243195,
     "end_time": "2023-07-20T14:17:29.776661",
     "exception": false,
     "start_time": "2023-07-20T14:17:29.533466",
     "status": "completed"
    },
    "tags": []
   },
   "outputs": [],
   "source": []
  },
  {
   "cell_type": "code",
   "execution_count": null,
   "metadata": {
    "papermill": {
     "duration": 0.246531,
     "end_time": "2023-07-20T14:17:30.265070",
     "exception": false,
     "start_time": "2023-07-20T14:17:30.018539",
     "status": "completed"
    },
    "tags": []
   },
   "outputs": [],
   "source": []
  }
 ],
 "metadata": {
  "kernelspec": {
   "display_name": "Python 3",
   "language": "python",
   "name": "python3"
  },
  "language_info": {
   "codemirror_mode": {
    "name": "ipython",
    "version": 3
   },
   "file_extension": ".py",
   "mimetype": "text/x-python",
   "name": "python",
   "nbconvert_exporter": "python",
   "pygments_lexer": "ipython3",
   "version": "3.7.6"
  },
  "papermill": {
   "duration": 385.825916,
   "end_time": "2023-07-20T14:17:31.650224",
   "environment_variables": {},
   "exception": null,
   "input_path": "__notebook__.ipynb",
   "output_path": "__notebook__.ipynb",
   "parameters": {},
   "start_time": "2023-07-20T14:11:05.824308",
   "version": "2.1.0"
  }
 },
 "nbformat": 4,
 "nbformat_minor": 4
}
